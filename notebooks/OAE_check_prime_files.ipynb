{
 "cells": [
  {
   "cell_type": "code",
   "execution_count": 1,
   "id": "a924887d-aff4-4054-8260-d7356c7a5a01",
   "metadata": {},
   "outputs": [],
   "source": [
    "import os\n",
    "\n",
    "from itertools import product\n",
    "\n",
    "import xarray as xr\n",
    "import dask\n",
    "import numpy as np\n",
    "import pandas as pd\n",
    "\n",
    "import util\n",
    "\n",
    "PROJECT = \"NCGD0011\"\n",
    "USER = os.environ[\"USER\"]"
   ]
  },
  {
   "cell_type": "code",
   "execution_count": 2,
   "id": "b0f7cde9-e6ad-43ef-bca2-d78b4a2fd19f",
   "metadata": {},
   "outputs": [],
   "source": [
    "basins = ['North_Atlantic_basin', 'North_Pacific_basin', 'South', 'Southern_Ocean']\n",
    "npolygon = dict(\n",
    "    North_Atlantic_basin=150, \n",
    "    North_Pacific_basin=200, \n",
    "    South=300,\n",
    "    Southern_Ocean=40,\n",
    ")"
   ]
  },
  {
   "cell_type": "code",
   "execution_count": 3,
   "id": "a2c0b59f-33f6-49f9-b020-ec2b2070d6c3",
   "metadata": {},
   "outputs": [],
   "source": [
    "mths = ['-' + str(m).zfill(2) for m in range(1,13)]\n",
    "yrs = np.array([str(yr).zfill(4) for yr in range(347, 363)])\n",
    "\n",
    "timestamps = np.char.add(np.repeat(yrs, len(mths)),\n",
    "                         np.tile(mths, len(yrs))\n",
    "           )"
   ]
  },
  {
   "cell_type": "code",
   "execution_count": 4,
   "id": "0bcba7d1-5bed-4fa3-896f-5c0551be4e75",
   "metadata": {},
   "outputs": [
    {
     "name": "stdout",
     "output_type": "stream",
     "text": [
      "CPU times: user 252 ms, sys: 76 ms, total: 328 ms\n",
      "Wall time: 329 ms\n"
     ]
    },
    {
     "data": {
      "text/html": [
       "<div>\n",
       "<style scoped>\n",
       "    .dataframe tbody tr th:only-of-type {\n",
       "        vertical-align: middle;\n",
       "    }\n",
       "\n",
       "    .dataframe tbody tr th {\n",
       "        vertical-align: top;\n",
       "    }\n",
       "\n",
       "    .dataframe thead th {\n",
       "        text-align: right;\n",
       "    }\n",
       "</style>\n",
       "<table border=\"1\" class=\"dataframe\">\n",
       "  <thead>\n",
       "    <tr style=\"text-align: right;\">\n",
       "      <th></th>\n",
       "      <th></th>\n",
       "      <th></th>\n",
       "      <th>polygon_id</th>\n",
       "      <th>files</th>\n",
       "    </tr>\n",
       "    <tr>\n",
       "      <th>polygon</th>\n",
       "      <th>basin</th>\n",
       "      <th>start_date</th>\n",
       "      <th></th>\n",
       "      <th></th>\n",
       "    </tr>\n",
       "  </thead>\n",
       "  <tbody>\n",
       "    <tr>\n",
       "      <th rowspan=\"4\" valign=\"top\">0</th>\n",
       "      <th rowspan=\"4\" valign=\"top\">North_Atlantic_basin</th>\n",
       "      <th>0347-01</th>\n",
       "      <td>000</td>\n",
       "      <td>[/glade/campaign/cesm/development/bgcwg/projec...</td>\n",
       "    </tr>\n",
       "    <tr>\n",
       "      <th>0347-04</th>\n",
       "      <td>000</td>\n",
       "      <td>[/glade/campaign/cesm/development/bgcwg/projec...</td>\n",
       "    </tr>\n",
       "    <tr>\n",
       "      <th>0347-07</th>\n",
       "      <td>000</td>\n",
       "      <td>[/glade/campaign/cesm/development/bgcwg/projec...</td>\n",
       "    </tr>\n",
       "    <tr>\n",
       "      <th>0347-10</th>\n",
       "      <td>000</td>\n",
       "      <td>[/glade/campaign/cesm/development/bgcwg/projec...</td>\n",
       "    </tr>\n",
       "    <tr>\n",
       "      <th>1</th>\n",
       "      <th>North_Atlantic_basin</th>\n",
       "      <th>0347-01</th>\n",
       "      <td>001</td>\n",
       "      <td>[/glade/campaign/cesm/development/bgcwg/projec...</td>\n",
       "    </tr>\n",
       "    <tr>\n",
       "      <th>...</th>\n",
       "      <th>...</th>\n",
       "      <th>...</th>\n",
       "      <td>...</td>\n",
       "      <td>...</td>\n",
       "    </tr>\n",
       "    <tr>\n",
       "      <th>38</th>\n",
       "      <th>Southern_Ocean</th>\n",
       "      <th>0347-10</th>\n",
       "      <td>688</td>\n",
       "      <td>[/glade/campaign/cesm/development/bgcwg/projec...</td>\n",
       "    </tr>\n",
       "    <tr>\n",
       "      <th rowspan=\"4\" valign=\"top\">39</th>\n",
       "      <th rowspan=\"4\" valign=\"top\">Southern_Ocean</th>\n",
       "      <th>0347-01</th>\n",
       "      <td>689</td>\n",
       "      <td>[/glade/campaign/cesm/development/bgcwg/projec...</td>\n",
       "    </tr>\n",
       "    <tr>\n",
       "      <th>0347-04</th>\n",
       "      <td>689</td>\n",
       "      <td>[/glade/campaign/cesm/development/bgcwg/projec...</td>\n",
       "    </tr>\n",
       "    <tr>\n",
       "      <th>0347-07</th>\n",
       "      <td>689</td>\n",
       "      <td>[/glade/campaign/cesm/development/bgcwg/projec...</td>\n",
       "    </tr>\n",
       "    <tr>\n",
       "      <th>0347-10</th>\n",
       "      <td>689</td>\n",
       "      <td>[/glade/campaign/cesm/development/bgcwg/projec...</td>\n",
       "    </tr>\n",
       "  </tbody>\n",
       "</table>\n",
       "<p>2760 rows × 2 columns</p>\n",
       "</div>"
      ],
      "text/plain": [
       "                                        polygon_id  \\\n",
       "polygon basin                start_date              \n",
       "0       North_Atlantic_basin 0347-01           000   \n",
       "                             0347-04           000   \n",
       "                             0347-07           000   \n",
       "                             0347-10           000   \n",
       "1       North_Atlantic_basin 0347-01           001   \n",
       "...                                            ...   \n",
       "38      Southern_Ocean       0347-10           688   \n",
       "39      Southern_Ocean       0347-01           689   \n",
       "                             0347-04           689   \n",
       "                             0347-07           689   \n",
       "                             0347-10           689   \n",
       "\n",
       "                                                                                     files  \n",
       "polygon basin                start_date                                                     \n",
       "0       North_Atlantic_basin 0347-01     [/glade/campaign/cesm/development/bgcwg/projec...  \n",
       "                             0347-04     [/glade/campaign/cesm/development/bgcwg/projec...  \n",
       "                             0347-07     [/glade/campaign/cesm/development/bgcwg/projec...  \n",
       "                             0347-10     [/glade/campaign/cesm/development/bgcwg/projec...  \n",
       "1       North_Atlantic_basin 0347-01     [/glade/campaign/cesm/development/bgcwg/projec...  \n",
       "...                                                                                    ...  \n",
       "38      Southern_Ocean       0347-10     [/glade/campaign/cesm/development/bgcwg/projec...  \n",
       "39      Southern_Ocean       0347-01     [/glade/campaign/cesm/development/bgcwg/projec...  \n",
       "                             0347-04     [/glade/campaign/cesm/development/bgcwg/projec...  \n",
       "                             0347-07     [/glade/campaign/cesm/development/bgcwg/projec...  \n",
       "                             0347-10     [/glade/campaign/cesm/development/bgcwg/projec...  \n",
       "\n",
       "[2760 rows x 2 columns]"
      ]
     },
     "execution_count": 4,
     "metadata": {},
     "output_type": "execute_result"
    }
   ],
   "source": [
    "%%time\n",
    "path = '/glade/campaign/cesm/development/bgcwg/projects/OAE-Global-Efficiency/Mengyang_Global_OAE_Experiments/archive/'\n",
    "\n",
    "rows = []\n",
    "offset = 0\n",
    "for n, b in enumerate(basins):\n",
    "    \n",
    "    polygon_ids = [f'{i:03d}' for i in np.arange(offset, offset + npolygon[b])]    \n",
    "    offset += npolygon[b]\n",
    "    \n",
    "    for i, p_id in enumerate(polygon_ids):\n",
    "        \n",
    "        for m in ['01', '04', '07', '10']:\n",
    "            ndx = np.int32(m) - 1\n",
    "            dates = timestamps[ndx:ndx + 180]\n",
    "            \n",
    "            case = f'smyle-fosi.{b}.alk-forcing-{b}.{i:03d}-1999-{m}'\n",
    "            files = [f'{path}/{case}/ocn/hist/{case}.pop.h.{d}.nc' for d in dates]\n",
    "            \n",
    "            rows.append(\n",
    "                dict(polygon=i, polygon_id=p_id, basin=b, start_date=dates[0], files=files)\n",
    "            )\n",
    "\n",
    "index_fields = ['polygon', 'basin', 'start_date']\n",
    "df = pd.DataFrame(rows).set_index(index_fields)\n",
    "df"
   ]
  },
  {
   "cell_type": "code",
   "execution_count": 5,
   "id": "b66d7892-99ee-4dcb-b55e-593c38e1ec9e",
   "metadata": {},
   "outputs": [],
   "source": [
    "start_dates = list(df.index.unique(level='start_date'))\n",
    "polygons = [df.xs((b, start_dates[0]), level=('basin', 'start_date')).index[0] for b in basins]"
   ]
  },
  {
   "cell_type": "code",
   "execution_count": 6,
   "id": "6f4b6a3a-a7c0-4c42-8ab2-b60245cec67d",
   "metadata": {},
   "outputs": [
    {
     "data": {
      "text/plain": [
       "polygon_id                                                  350\n",
       "files         [/glade/campaign/cesm/development/bgcwg/projec...\n",
       "Name: (0, South, 0347-01), dtype: object"
      ]
     },
     "execution_count": 6,
     "metadata": {},
     "output_type": "execute_result"
    }
   ],
   "source": [
    "df.loc[0, 'South', '0347-01']"
   ]
  },
  {
   "cell_type": "code",
   "execution_count": 7,
   "id": "04c43b96-18d4-48c5-8383-34d044dcb94b",
   "metadata": {
    "scrolled": true
   },
   "outputs": [
    {
     "name": "stderr",
     "output_type": "stream",
     "text": [
      "/glade/work/mclong/miniconda3/envs/mcdr-atlas/lib/python3.10/site-packages/dask_jobqueue/pbs.py:82: FutureWarning: project has been renamed to account as this kwarg was used wit -A option. You are still using it (please also check config files). If you did not set account yet, project will be respected for now, but it will be removed in a future release. If you already set account, project is ignored and you can remove it.\n",
      "  warnings.warn(warn, FutureWarning)\n",
      "/glade/work/mclong/miniconda3/envs/mcdr-atlas/lib/python3.10/site-packages/dask_jobqueue/pbs.py:82: FutureWarning: project has been renamed to account as this kwarg was used wit -A option. You are still using it (please also check config files). If you did not set account yet, project will be respected for now, but it will be removed in a future release. If you already set account, project is ignored and you can remove it.\n",
      "  warnings.warn(warn, FutureWarning)\n"
     ]
    },
    {
     "data": {
      "text/html": [
       "<div>\n",
       "    <div style=\"width: 24px; height: 24px; background-color: #e1e1e1; border: 3px solid #9D9D9D; border-radius: 5px; position: absolute;\"> </div>\n",
       "    <div style=\"margin-left: 48px;\">\n",
       "        <h3 style=\"margin-bottom: 0px;\">Client</h3>\n",
       "        <p style=\"color: #9D9D9D; margin-bottom: 0px;\">Client-4230ea4b-485a-11ef-8a39-ac1f6bca6f4c</p>\n",
       "        <table style=\"width: 100%; text-align: left;\">\n",
       "\n",
       "        <tr>\n",
       "        \n",
       "            <td style=\"text-align: left;\"><strong>Connection method:</strong> Cluster object</td>\n",
       "            <td style=\"text-align: left;\"><strong>Cluster type:</strong> dask_jobqueue.PBSCluster</td>\n",
       "        \n",
       "        </tr>\n",
       "\n",
       "        \n",
       "            <tr>\n",
       "                <td style=\"text-align: left;\">\n",
       "                    <strong>Dashboard: </strong> <a href=\"https://jupyterhub.hpc.ucar.edu/stable/user/mclong/calcs/proxy/8787/status\" target=\"_blank\">https://jupyterhub.hpc.ucar.edu/stable/user/mclong/calcs/proxy/8787/status</a>\n",
       "                </td>\n",
       "                <td style=\"text-align: left;\"></td>\n",
       "            </tr>\n",
       "        \n",
       "\n",
       "        </table>\n",
       "\n",
       "        \n",
       "\n",
       "        \n",
       "            <details>\n",
       "            <summary style=\"margin-bottom: 20px;\"><h3 style=\"display: inline;\">Cluster Info</h3></summary>\n",
       "            <div class=\"jp-RenderedHTMLCommon jp-RenderedHTML jp-mod-trusted jp-OutputArea-output\">\n",
       "    <div style=\"width: 24px; height: 24px; background-color: #e1e1e1; border: 3px solid #9D9D9D; border-radius: 5px; position: absolute;\">\n",
       "    </div>\n",
       "    <div style=\"margin-left: 48px;\">\n",
       "        <h3 style=\"margin-bottom: 0px; margin-top: 0px;\">PBSCluster</h3>\n",
       "        <p style=\"color: #9D9D9D; margin-bottom: 0px;\">4de17001</p>\n",
       "        <table style=\"width: 100%; text-align: left;\">\n",
       "            <tr>\n",
       "                <td style=\"text-align: left;\">\n",
       "                    <strong>Dashboard:</strong> <a href=\"https://jupyterhub.hpc.ucar.edu/stable/user/mclong/calcs/proxy/8787/status\" target=\"_blank\">https://jupyterhub.hpc.ucar.edu/stable/user/mclong/calcs/proxy/8787/status</a>\n",
       "                </td>\n",
       "                <td style=\"text-align: left;\">\n",
       "                    <strong>Workers:</strong> 0\n",
       "                </td>\n",
       "            </tr>\n",
       "            <tr>\n",
       "                <td style=\"text-align: left;\">\n",
       "                    <strong>Total threads:</strong> 0\n",
       "                </td>\n",
       "                <td style=\"text-align: left;\">\n",
       "                    <strong>Total memory:</strong> 0 B\n",
       "                </td>\n",
       "            </tr>\n",
       "            \n",
       "        </table>\n",
       "\n",
       "        <details>\n",
       "            <summary style=\"margin-bottom: 20px;\">\n",
       "                <h3 style=\"display: inline;\">Scheduler Info</h3>\n",
       "            </summary>\n",
       "\n",
       "            <div style=\"\">\n",
       "    <div>\n",
       "        <div style=\"width: 24px; height: 24px; background-color: #FFF7E5; border: 3px solid #FF6132; border-radius: 5px; position: absolute;\"> </div>\n",
       "        <div style=\"margin-left: 48px;\">\n",
       "            <h3 style=\"margin-bottom: 0px;\">Scheduler</h3>\n",
       "            <p style=\"color: #9D9D9D; margin-bottom: 0px;\">Scheduler-239a0166-2ce7-44df-bb11-0046131e802b</p>\n",
       "            <table style=\"width: 100%; text-align: left;\">\n",
       "                <tr>\n",
       "                    <td style=\"text-align: left;\">\n",
       "                        <strong>Comm:</strong> tcp://128.117.208.69:41115\n",
       "                    </td>\n",
       "                    <td style=\"text-align: left;\">\n",
       "                        <strong>Workers:</strong> 0\n",
       "                    </td>\n",
       "                </tr>\n",
       "                <tr>\n",
       "                    <td style=\"text-align: left;\">\n",
       "                        <strong>Dashboard:</strong> <a href=\"https://jupyterhub.hpc.ucar.edu/stable/user/mclong/calcs/proxy/8787/status\" target=\"_blank\">https://jupyterhub.hpc.ucar.edu/stable/user/mclong/calcs/proxy/8787/status</a>\n",
       "                    </td>\n",
       "                    <td style=\"text-align: left;\">\n",
       "                        <strong>Total threads:</strong> 0\n",
       "                    </td>\n",
       "                </tr>\n",
       "                <tr>\n",
       "                    <td style=\"text-align: left;\">\n",
       "                        <strong>Started:</strong> Just now\n",
       "                    </td>\n",
       "                    <td style=\"text-align: left;\">\n",
       "                        <strong>Total memory:</strong> 0 B\n",
       "                    </td>\n",
       "                </tr>\n",
       "            </table>\n",
       "        </div>\n",
       "    </div>\n",
       "\n",
       "    <details style=\"margin-left: 48px;\">\n",
       "        <summary style=\"margin-bottom: 20px;\">\n",
       "            <h3 style=\"display: inline;\">Workers</h3>\n",
       "        </summary>\n",
       "\n",
       "        \n",
       "\n",
       "    </details>\n",
       "</div>\n",
       "\n",
       "        </details>\n",
       "    </div>\n",
       "</div>\n",
       "            </details>\n",
       "        \n",
       "\n",
       "    </div>\n",
       "</div>"
      ],
      "text/plain": [
       "<Client: 'tcp://128.117.208.69:41115' processes=0 threads=0, memory=0 B>"
      ]
     },
     "execution_count": 7,
     "metadata": {},
     "output_type": "execute_result"
    }
   ],
   "source": [
    "cluster, client = util.get_ClusterClient(memory=\"2GB\", project=PROJECT, walltime=\"12:00:00\")\n",
    "cluster.scale(256)\n",
    "client"
   ]
  },
  {
   "cell_type": "code",
   "execution_count": 8,
   "id": "dbb1d832-8cee-407d-88fa-0757beb62647",
   "metadata": {},
   "outputs": [
    {
     "name": "stdout",
     "output_type": "stream",
     "text": [
      "CPU times: user 162 µs, sys: 37 µs, total: 199 µs\n",
      "Wall time: 204 µs\n"
     ]
    }
   ],
   "source": [
    "%%time\n",
    "\n",
    "@dask.delayed\n",
    "def get_reference_data(index):\n",
    "    \n",
    "    return [\n",
    "        xr.open_dataset(f)['ALK_ALT_CO2'].isel(time=0, z_t=0) \n",
    "        for f in df.loc[index].files\n",
    "    ]\n",
    "        \n",
    "\n",
    "#reference_dsets = {f'{b}-{d}': get_reference_data((0, b, d))\n",
    "#    for b, d in product(basins, start_dates)\n",
    "#}\n",
    "\n",
    "#reference_dsets = dask.compute(reference_dsets)[0]"
   ]
  },
  {
   "cell_type": "code",
   "execution_count": null,
   "id": "f0d35cd2-9268-4875-b652-7083ff24bb3b",
   "metadata": {},
   "outputs": [
    {
     "name": "stdout",
     "output_type": "stream",
     "text": [
      "('North_Atlantic_basin', '0347-01')\n"
     ]
    },
    {
     "name": "stderr",
     "output_type": "stream",
     "text": [
      "/glade/work/mclong/miniconda3/envs/mcdr-atlas/lib/python3.10/site-packages/distributed/client.py:3157: UserWarning: Sending large graph of size 126.13 MiB.\n",
      "This may cause some slowdown.\n",
      "Consider scattering data ahead of time and using futures.\n",
      "  warnings.warn(\n"
     ]
    },
    {
     "name": "stdout",
     "output_type": "stream",
     "text": [
      "('North_Atlantic_basin', '0347-04')\n"
     ]
    },
    {
     "name": "stderr",
     "output_type": "stream",
     "text": [
      "/glade/work/mclong/miniconda3/envs/mcdr-atlas/lib/python3.10/site-packages/distributed/client.py:3157: UserWarning: Sending large graph of size 126.15 MiB.\n",
      "This may cause some slowdown.\n",
      "Consider scattering data ahead of time and using futures.\n",
      "  warnings.warn(\n"
     ]
    }
   ],
   "source": [
    "%%time \n",
    "\n",
    "@dask.delayed\n",
    "def comparison(index, index_ref):\n",
    "    \"\"\"return RMSE for field compared to reference\"\"\"\n",
    "    \n",
    "    files = df.loc[index].files\n",
    "    da_list = [xr.open_dataset(f)['ALK_ALT_CO2'].isel(time=0, z_t=0) for f in files]    \n",
    "\n",
    "    files = df.loc[index_ref].files\n",
    "    da_ref_list = [xr.open_dataset(f)['ALK_ALT_CO2'].isel(time=0, z_t=0) for f in files]\n",
    "\n",
    "    rmse = []\n",
    "    for da_test, da_reference in zip(da_list, da_ref_list):\n",
    "        rmse.append(\n",
    "            ((da_test - da_reference) ** 2).sum().values.item()\n",
    "        )\n",
    "    return np.array(rmse)\n",
    "        \n",
    "\n",
    "rmse = []\n",
    "objs_rmse = []\n",
    "for b, d in product(basins, start_dates):\n",
    "    # get the indexes for these polygons — keep the reference as the first index\n",
    "    polygons = df.xs((b, d), level=('basin', 'start_date')).index\n",
    "    print((b, d))\n",
    "    for p in polygons:\n",
    "        p_ndx = (p, b, d)\n",
    "        objs_rmse.append(dict(polygon=p, basin=b, start_date=d, rmse=comparison(p_ndx, (0, b, d))))\n",
    "    \n",
    "    rmse.extend(dask.compute(objs_rmse)[0])\n",
    "\n"
   ]
  },
  {
   "cell_type": "code",
   "execution_count": null,
   "id": "def1d5fd-a19b-428f-9da6-ed5d6f937c61",
   "metadata": {},
   "outputs": [],
   "source": [
    "df_comp = pd.DataFrame(rmse).set_index(index_fields)\n",
    "df_comp"
   ]
  },
  {
   "cell_type": "code",
   "execution_count": null,
   "id": "55a779e5-4b50-4ce0-9c22-ca695c9a9ed3",
   "metadata": {},
   "outputs": [],
   "source": [
    "df_comp.to_pickle('comparison_data.pkl')"
   ]
  },
  {
   "cell_type": "code",
   "execution_count": null,
   "id": "573c83a2-f254-41f0-9a16-1b858c82c8d6",
   "metadata": {},
   "outputs": [],
   "source": []
  }
 ],
 "metadata": {
  "kernelspec": {
   "display_name": "Python [conda env:miniconda3-mcdr-atlas]",
   "language": "python",
   "name": "conda-env-miniconda3-mcdr-atlas-py"
  },
  "language_info": {
   "codemirror_mode": {
    "name": "ipython",
    "version": 3
   },
   "file_extension": ".py",
   "mimetype": "text/x-python",
   "name": "python",
   "nbconvert_exporter": "python",
   "pygments_lexer": "ipython3",
   "version": "3.10.13"
  }
 },
 "nbformat": 4,
 "nbformat_minor": 5
}
