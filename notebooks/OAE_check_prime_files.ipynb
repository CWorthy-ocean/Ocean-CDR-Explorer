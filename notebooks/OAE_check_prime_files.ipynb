{
 "cells": [
  {
   "cell_type": "code",
   "execution_count": null,
   "id": "a924887d-aff4-4054-8260-d7356c7a5a01",
   "metadata": {},
   "outputs": [],
   "source": [
    "import os\n",
    "\n",
    "from itertools import product\n",
    "\n",
    "import xarray as xr\n",
    "import dask\n",
    "import numpy as np\n",
    "import pandas as pd\n",
    "\n",
    "import util\n",
    "\n",
    "PROJECT = \"NCGD0011\"\n",
    "USER = os.environ[\"USER\"]"
   ]
  },
  {
   "cell_type": "code",
   "execution_count": null,
   "id": "b0f7cde9-e6ad-43ef-bca2-d78b4a2fd19f",
   "metadata": {},
   "outputs": [],
   "source": [
    "basins = ['North_Atlantic_basin', 'North_Pacific_basin', 'South', 'Southern_Ocean']\n",
    "npolygon = dict(\n",
    "    North_Atlantic_basin=150, \n",
    "    North_Pacific_basin=200, \n",
    "    South=300,\n",
    "    Southern_Ocean=40,\n",
    ")"
   ]
  },
  {
   "cell_type": "code",
   "execution_count": null,
   "id": "a2c0b59f-33f6-49f9-b020-ec2b2070d6c3",
   "metadata": {},
   "outputs": [],
   "source": [
    "mths = ['-' + str(m).zfill(2) for m in range(1,13)]\n",
    "yrs = np.array([str(yr).zfill(4) for yr in range(347, 363)])\n",
    "\n",
    "timestamps = np.char.add(np.repeat(yrs, len(mths)),\n",
    "                         np.tile(mths, len(yrs))\n",
    "           )"
   ]
  },
  {
   "cell_type": "code",
   "execution_count": null,
   "id": "0bcba7d1-5bed-4fa3-896f-5c0551be4e75",
   "metadata": {},
   "outputs": [],
   "source": [
    "%%time\n",
    "path = '/glade/campaign/cesm/development/bgcwg/projects/OAE-Global-Efficiency/Mengyang_Global_OAE_Experiments/archive/'\n",
    "\n",
    "rows = []\n",
    "offset = 0\n",
    "for n, b in enumerate(basins):\n",
    "    \n",
    "    polygon_ids = [f'{i:03d}' for i in np.arange(offset, offset + npolygon[b])]    \n",
    "    offset += npolygon[b]\n",
    "    \n",
    "    for i, p_id in enumerate(polygon_ids):\n",
    "        \n",
    "        for m in ['01', '04', '07', '10']:\n",
    "            ndx = np.int32(m) - 1\n",
    "            dates = timestamps[ndx:ndx + 180]\n",
    "            \n",
    "            case = f'smyle-fosi.{b}.alk-forcing-{b}.{i:03d}-1999-{m}'\n",
    "            files = [f'{path}/{case}/ocn/hist/{case}.pop.h.{d}.nc' for d in dates]\n",
    "            \n",
    "            rows.append(\n",
    "                dict(polygon=i, polygon_id=p_id, basin=b, start_date=dates[0], files=files)\n",
    "            )\n",
    "\n",
    "index_fields = ['polygon', 'basin', 'start_date']\n",
    "df = pd.DataFrame(rows).set_index(index_fields)\n",
    "df"
   ]
  },
  {
   "cell_type": "code",
   "execution_count": null,
   "id": "b66d7892-99ee-4dcb-b55e-593c38e1ec9e",
   "metadata": {},
   "outputs": [],
   "source": [
    "start_dates = list(df.index.unique(level='start_date'))\n",
    "polygons = [df.xs((b, start_dates[0]), level=('basin', 'start_date')).index[0] for b in basins]"
   ]
  },
  {
   "cell_type": "code",
   "execution_count": null,
   "id": "6f4b6a3a-a7c0-4c42-8ab2-b60245cec67d",
   "metadata": {},
   "outputs": [],
   "source": [
    "df.loc[0, 'South', '0347-01']"
   ]
  },
  {
   "cell_type": "code",
   "execution_count": null,
   "id": "04c43b96-18d4-48c5-8383-34d044dcb94b",
   "metadata": {
    "scrolled": true
   },
   "outputs": [],
   "source": [
    "cluster, client = util.get_ClusterClient(memory=\"2GB\", project=PROJECT, walltime=\"12:00:00\")\n",
    "cluster.scale(256)\n",
    "client"
   ]
  },
  {
   "cell_type": "code",
   "execution_count": null,
   "id": "dbb1d832-8cee-407d-88fa-0757beb62647",
   "metadata": {},
   "outputs": [],
   "source": [
    "%%time\n",
    "\n",
    "@dask.delayed\n",
    "def get_reference_data(index):\n",
    "    \n",
    "    return [\n",
    "        xr.open_dataset(f)['ALK_ALT_CO2'].isel(time=0, z_t=0) \n",
    "        for f in df.loc[index].files\n",
    "    ]\n",
    "        \n",
    "\n",
    "#reference_dsets = {f'{b}-{d}': get_reference_data((0, b, d))\n",
    "#    for b, d in product(basins, start_dates)\n",
    "#}\n",
    "\n",
    "#reference_dsets = dask.compute(reference_dsets)[0]"
   ]
  },
  {
   "cell_type": "code",
   "execution_count": null,
   "id": "f0d35cd2-9268-4875-b652-7083ff24bb3b",
   "metadata": {},
   "outputs": [],
   "source": [
    "%%time \n",
    "\n",
    "@dask.delayed\n",
    "def comparison(index, index_ref):\n",
    "    \"\"\"return RMSE for field compared to reference\"\"\"\n",
    "    \n",
    "    files = df.loc[index].files\n",
    "    da_list = [xr.open_dataset(f)['ALK_ALT_CO2'].isel(time=0, z_t=0) for f in files]    \n",
    "\n",
    "    files = df.loc[index_ref].files\n",
    "    da_ref_list = [xr.open_dataset(f)['ALK_ALT_CO2'].isel(time=0, z_t=0) for f in files]\n",
    "\n",
    "    rmse = []\n",
    "    for da_test, da_reference in zip(da_list, da_ref_list):\n",
    "        rmse.append(\n",
    "            ((da_test - da_reference) ** 2).sum().values.item()\n",
    "        )\n",
    "    return np.array(rmse)\n",
    "        \n",
    "\n",
    "rmse = []\n",
    "for b, d in product(basins, start_dates):\n",
    "    # get the indexes for these polygons — keep the reference as the first index\n",
    "    polygons = df.xs((b, d), level=('basin', 'start_date')).index\n",
    "    print((b, d))\n",
    "\n",
    "    objs_rmse = []\n",
    "    for p in polygons:\n",
    "        p_ndx = (p, b, d)\n",
    "        objs_rmse.append(dict(polygon=p, basin=b, start_date=d, rmse=comparison(p_ndx, (0, b, d))))\n",
    "    \n",
    "    rmse.extend(dask.compute(objs_rmse)[0])\n",
    "\n"
   ]
  },
  {
   "cell_type": "code",
   "execution_count": null,
   "id": "def1d5fd-a19b-428f-9da6-ed5d6f937c61",
   "metadata": {},
   "outputs": [],
   "source": [
    "df_comp = pd.DataFrame(rmse).set_index(index_fields)\n",
    "df_comp"
   ]
  },
  {
   "cell_type": "code",
   "execution_count": null,
   "id": "55a779e5-4b50-4ce0-9c22-ca695c9a9ed3",
   "metadata": {},
   "outputs": [],
   "source": [
    "df_comp.to_pickle('comparison_data.pkl')"
   ]
  },
  {
   "cell_type": "code",
   "execution_count": null,
   "id": "573c83a2-f254-41f0-9a16-1b858c82c8d6",
   "metadata": {},
   "outputs": [],
   "source": []
  }
 ],
 "metadata": {
  "kernelspec": {
   "display_name": "Python [conda env:miniconda3-mcdr-atlas]",
   "language": "python",
   "name": "conda-env-miniconda3-mcdr-atlas-py"
  },
  "language_info": {
   "codemirror_mode": {
    "name": "ipython",
    "version": 3
   },
   "file_extension": ".py",
   "mimetype": "text/x-python",
   "name": "python",
   "nbconvert_exporter": "python",
   "pygments_lexer": "ipython3",
   "version": "3.10.13"
  }
 },
 "nbformat": 4,
 "nbformat_minor": 5
}
